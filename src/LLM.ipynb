{
 "cells": [
  {
   "cell_type": "markdown",
   "metadata": {},
   "source": [
    "# Imports\n"
   ]
  },
  {
   "cell_type": "code",
   "execution_count": 1,
   "metadata": {},
   "outputs": [
    {
     "name": "stdout",
     "output_type": "stream",
     "text": [
      "Defaulting to user installation because normal site-packages is not writeable\n",
      "Looking in indexes: https://download.pytorch.org/whl/cu118\n",
      "Requirement already satisfied: torch in /home/nord/.local/lib/python3.12/site-packages (2.4.1+cu118)\n",
      "Requirement already satisfied: torchvision in /home/nord/.local/lib/python3.12/site-packages (0.19.1+cu118)\n",
      "Requirement already satisfied: filelock in /home/nord/.local/lib/python3.12/site-packages (from torch) (3.16.0)\n",
      "Requirement already satisfied: typing-extensions>=4.8.0 in /home/nord/.local/lib/python3.12/site-packages (from torch) (4.12.2)\n",
      "Requirement already satisfied: sympy in /home/nord/.local/lib/python3.12/site-packages (from torch) (1.13.2)\n",
      "Requirement already satisfied: networkx in /home/nord/.local/lib/python3.12/site-packages (from torch) (3.3)\n",
      "Requirement already satisfied: jinja2 in /home/nord/.local/lib/python3.12/site-packages (from torch) (3.1.4)\n",
      "Requirement already satisfied: fsspec in /home/nord/.local/lib/python3.12/site-packages (from torch) (2024.9.0)\n",
      "Requirement already satisfied: setuptools in /usr/lib/python3/dist-packages (from torch) (68.1.2)\n",
      "Requirement already satisfied: nvidia-cuda-nvrtc-cu11==11.8.89 in /home/nord/.local/lib/python3.12/site-packages (from torch) (11.8.89)\n",
      "Requirement already satisfied: nvidia-cuda-runtime-cu11==11.8.89 in /home/nord/.local/lib/python3.12/site-packages (from torch) (11.8.89)\n",
      "Requirement already satisfied: nvidia-cuda-cupti-cu11==11.8.87 in /home/nord/.local/lib/python3.12/site-packages (from torch) (11.8.87)\n",
      "Requirement already satisfied: nvidia-cudnn-cu11==9.1.0.70 in /home/nord/.local/lib/python3.12/site-packages (from torch) (9.1.0.70)\n",
      "Requirement already satisfied: nvidia-cublas-cu11==11.11.3.6 in /home/nord/.local/lib/python3.12/site-packages (from torch) (11.11.3.6)\n",
      "Requirement already satisfied: nvidia-cufft-cu11==10.9.0.58 in /home/nord/.local/lib/python3.12/site-packages (from torch) (10.9.0.58)\n",
      "Requirement already satisfied: nvidia-curand-cu11==10.3.0.86 in /home/nord/.local/lib/python3.12/site-packages (from torch) (10.3.0.86)\n",
      "Requirement already satisfied: nvidia-cusolver-cu11==11.4.1.48 in /home/nord/.local/lib/python3.12/site-packages (from torch) (11.4.1.48)\n",
      "Requirement already satisfied: nvidia-cusparse-cu11==11.7.5.86 in /home/nord/.local/lib/python3.12/site-packages (from torch) (11.7.5.86)\n",
      "Requirement already satisfied: nvidia-nccl-cu11==2.20.5 in /home/nord/.local/lib/python3.12/site-packages (from torch) (2.20.5)\n",
      "Requirement already satisfied: nvidia-nvtx-cu11==11.8.86 in /home/nord/.local/lib/python3.12/site-packages (from torch) (11.8.86)\n",
      "Requirement already satisfied: triton==3.0.0 in /home/nord/.local/lib/python3.12/site-packages (from torch) (3.0.0)\n",
      "Requirement already satisfied: numpy in /home/nord/.local/lib/python3.12/site-packages (from torchvision) (1.26.4)\n",
      "Requirement already satisfied: pillow!=8.3.*,>=5.3.0 in /usr/lib/python3/dist-packages (from torchvision) (10.2.0)\n",
      "Requirement already satisfied: MarkupSafe>=2.0 in /home/nord/.local/lib/python3.12/site-packages (from jinja2->torch) (2.1.5)\n",
      "Requirement already satisfied: mpmath<1.4,>=1.1.0 in /home/nord/.local/lib/python3.12/site-packages (from sympy->torch) (1.3.0)\n",
      "Note: you may need to restart the kernel to use updated packages.\n"
     ]
    }
   ],
   "source": [
    "%pip install --upgrade torch torchvision --index-url https://download.pytorch.org/whl/cu118"
   ]
  },
  {
   "cell_type": "code",
   "execution_count": 2,
   "metadata": {},
   "outputs": [
    {
     "name": "stderr",
     "output_type": "stream",
     "text": [
      "[nltk_data] Downloading package stopwords to /home/nord/nltk_data...\n",
      "[nltk_data]   Package stopwords is already up-to-date!\n"
     ]
    }
   ],
   "source": [
    "from tools.DataLoader import DataLoader\n",
    "from tools.EDA import EDAEmbedding\n",
    "from tools.TextPreprocessingPipeline import TextPreprocessingPipeline\n",
    "from models.EmbeddingModel import EmbeddingModel\n",
    "from models.MLModelTrainer import MLModelTrainer\n",
    "from tools.ModelEvaluator import ModelEvaluator"
   ]
  },
  {
   "cell_type": "code",
   "execution_count": 3,
   "metadata": {},
   "outputs": [
    {
     "name": "stdout",
     "output_type": "stream",
     "text": [
      "2.4.1+cu118\n",
      "0.19.1+cu118\n",
      "11.8\n",
      "False\n"
     ]
    }
   ],
   "source": [
    "import torch\n",
    "import torchvision\n",
    "\n",
    "print(torch.__version__)\n",
    "print(torchvision.__version__)\n",
    "print(torch.version.cuda)\n",
    "\n",
    "print(torch.cuda.is_available())"
   ]
  },
  {
   "cell_type": "markdown",
   "metadata": {},
   "source": [
    "# **Data Load**\n"
   ]
  },
  {
   "cell_type": "code",
   "execution_count": 4,
   "metadata": {},
   "outputs": [],
   "source": [
    "loader = DataLoader()"
   ]
  },
  {
   "cell_type": "code",
   "execution_count": 5,
   "metadata": {},
   "outputs": [
    {
     "name": "stdout",
     "output_type": "stream",
     "text": [
      "Данные успешно загружены из локального файла.\n"
     ]
    }
   ],
   "source": [
    "data = loader.load_from_local(dataset_path=\"db/spam.csv\", encoding=\"ISO-8859-1\")\n",
    "# loader.load_from_google_drive(\"db/spam.csv\")"
   ]
  },
  {
   "cell_type": "code",
   "execution_count": 6,
   "metadata": {},
   "outputs": [
    {
     "name": "stdout",
     "output_type": "stream",
     "text": [
      "     v1                                                 v2 Unnamed: 2  \\\n",
      "0   ham  Go until jurong point, crazy.. Available only ...        NaN   \n",
      "1   ham                      Ok lar... Joking wif u oni...        NaN   \n",
      "2  spam  Free entry in 2 a wkly comp to win FA Cup fina...        NaN   \n",
      "3   ham  U dun say so early hor... U c already then say...        NaN   \n",
      "4   ham  Nah I don't think he goes to usf, he lives aro...        NaN   \n",
      "\n",
      "  Unnamed: 3 Unnamed: 4  \n",
      "0        NaN        NaN  \n",
      "1        NaN        NaN  \n",
      "2        NaN        NaN  \n",
      "3        NaN        NaN  \n",
      "4        NaN        NaN  \n",
      "<class 'pandas.core.frame.DataFrame'>\n"
     ]
    }
   ],
   "source": [
    "print(data.head())\n",
    "print(type(data))"
   ]
  },
  {
   "cell_type": "markdown",
   "metadata": {},
   "source": [
    "# **EDA**\n"
   ]
  },
  {
   "cell_type": "code",
   "execution_count": 7,
   "metadata": {},
   "outputs": [],
   "source": [
    "eda = EDAEmbedding(data)"
   ]
  },
  {
   "cell_type": "code",
   "execution_count": 8,
   "metadata": {},
   "outputs": [
    {
     "name": "stdout",
     "output_type": "stream",
     "text": [
      "Column 'Unnamed: 3' has been removed.\n",
      "Column 'Unnamed: 2' has been removed.\n",
      "Column 'Unnamed: 4' has been removed.\n"
     ]
    }
   ],
   "source": [
    "eda.drop_column(\"Unnamed: 3\")\n",
    "eda.drop_column(\"Unnamed: 2\")\n",
    "eda.drop_column(\"Unnamed: 4\")"
   ]
  },
  {
   "cell_type": "code",
   "execution_count": 9,
   "metadata": {},
   "outputs": [
    {
     "name": "stdout",
     "output_type": "stream",
     "text": [
      "Column 'v1' has been renamed to 'y'.\n",
      "Column 'v2' has been renamed to 'X'.\n"
     ]
    }
   ],
   "source": [
    "eda.rename_column(\"v1\", \"y\")\n",
    "eda.rename_column(\"v2\", \"X\")"
   ]
  },
  {
   "cell_type": "code",
   "execution_count": 10,
   "metadata": {},
   "outputs": [
    {
     "name": "stdout",
     "output_type": "stream",
     "text": [
      "Embedding Dataset Information:\n",
      "\n",
      "<class 'pandas.core.frame.DataFrame'>\n",
      "RangeIndex: 5572 entries, 0 to 5571\n",
      "Data columns (total 2 columns):\n",
      " #   Column  Non-Null Count  Dtype \n",
      "---  ------  --------------  ----- \n",
      " 0   y       5572 non-null   object\n",
      " 1   X       5572 non-null   object\n",
      "dtypes: object(2)\n",
      "memory usage: 87.2+ KB\n"
     ]
    },
    {
     "data": {
      "text/plain": [
       "None"
      ]
     },
     "metadata": {},
     "output_type": "display_data"
    },
    {
     "name": "stdout",
     "output_type": "stream",
     "text": [
      "\n",
      "Embedding Dataset Shape:\n",
      "\n",
      "(5572, 2)\n",
      "\n",
      "Descriptive Statistics of Embeddings:\n",
      "\n"
     ]
    },
    {
     "data": {
      "text/html": [
       "<div>\n",
       "<style scoped>\n",
       "    .dataframe tbody tr th:only-of-type {\n",
       "        vertical-align: middle;\n",
       "    }\n",
       "\n",
       "    .dataframe tbody tr th {\n",
       "        vertical-align: top;\n",
       "    }\n",
       "\n",
       "    .dataframe thead th {\n",
       "        text-align: right;\n",
       "    }\n",
       "</style>\n",
       "<table border=\"1\" class=\"dataframe\">\n",
       "  <thead>\n",
       "    <tr style=\"text-align: right;\">\n",
       "      <th></th>\n",
       "      <th>count</th>\n",
       "      <th>unique</th>\n",
       "      <th>top</th>\n",
       "      <th>freq</th>\n",
       "    </tr>\n",
       "  </thead>\n",
       "  <tbody>\n",
       "    <tr>\n",
       "      <th>y</th>\n",
       "      <td>5572</td>\n",
       "      <td>2</td>\n",
       "      <td>ham</td>\n",
       "      <td>4825</td>\n",
       "    </tr>\n",
       "    <tr>\n",
       "      <th>X</th>\n",
       "      <td>5572</td>\n",
       "      <td>5169</td>\n",
       "      <td>Sorry, I'll call later</td>\n",
       "      <td>30</td>\n",
       "    </tr>\n",
       "  </tbody>\n",
       "</table>\n",
       "</div>"
      ],
      "text/plain": [
       "  count unique                     top  freq\n",
       "y  5572      2                     ham  4825\n",
       "X  5572   5169  Sorry, I'll call later    30"
      ]
     },
     "metadata": {},
     "output_type": "display_data"
    },
    {
     "name": "stdout",
     "output_type": "stream",
     "text": [
      "Found 403 duplicate rows.\n"
     ]
    },
    {
     "data": {
      "text/html": [
       "<div>\n",
       "<style scoped>\n",
       "    .dataframe tbody tr th:only-of-type {\n",
       "        vertical-align: middle;\n",
       "    }\n",
       "\n",
       "    .dataframe tbody tr th {\n",
       "        vertical-align: top;\n",
       "    }\n",
       "\n",
       "    .dataframe thead th {\n",
       "        text-align: right;\n",
       "    }\n",
       "</style>\n",
       "<table border=\"1\" class=\"dataframe\">\n",
       "  <thead>\n",
       "    <tr style=\"text-align: right;\">\n",
       "      <th></th>\n",
       "      <th>y</th>\n",
       "      <th>X</th>\n",
       "    </tr>\n",
       "  </thead>\n",
       "  <tbody>\n",
       "    <tr>\n",
       "      <th>102</th>\n",
       "      <td>ham</td>\n",
       "      <td>As per your request 'Melle Melle (Oru Minnamin...</td>\n",
       "    </tr>\n",
       "    <tr>\n",
       "      <th>153</th>\n",
       "      <td>ham</td>\n",
       "      <td>As per your request 'Melle Melle (Oru Minnamin...</td>\n",
       "    </tr>\n",
       "    <tr>\n",
       "      <th>206</th>\n",
       "      <td>ham</td>\n",
       "      <td>As I entered my cabin my PA said, '' Happy B'd...</td>\n",
       "    </tr>\n",
       "    <tr>\n",
       "      <th>222</th>\n",
       "      <td>ham</td>\n",
       "      <td>Sorry, I'll call later</td>\n",
       "    </tr>\n",
       "    <tr>\n",
       "      <th>325</th>\n",
       "      <td>ham</td>\n",
       "      <td>No calls..messages..missed calls</td>\n",
       "    </tr>\n",
       "    <tr>\n",
       "      <th>...</th>\n",
       "      <td>...</td>\n",
       "      <td>...</td>\n",
       "    </tr>\n",
       "    <tr>\n",
       "      <th>5524</th>\n",
       "      <td>spam</td>\n",
       "      <td>You are awarded a SiPix Digital Camera! call 0...</td>\n",
       "    </tr>\n",
       "    <tr>\n",
       "      <th>5535</th>\n",
       "      <td>ham</td>\n",
       "      <td>I know you are thinkin malaria. But relax, chi...</td>\n",
       "    </tr>\n",
       "    <tr>\n",
       "      <th>5539</th>\n",
       "      <td>ham</td>\n",
       "      <td>Just sleeping..and surfing</td>\n",
       "    </tr>\n",
       "    <tr>\n",
       "      <th>5553</th>\n",
       "      <td>ham</td>\n",
       "      <td>Hahaha..use your brain dear</td>\n",
       "    </tr>\n",
       "    <tr>\n",
       "      <th>5558</th>\n",
       "      <td>ham</td>\n",
       "      <td>Sorry, I'll call later</td>\n",
       "    </tr>\n",
       "  </tbody>\n",
       "</table>\n",
       "<p>403 rows × 2 columns</p>\n",
       "</div>"
      ],
      "text/plain": [
       "         y                                                  X\n",
       "102    ham  As per your request 'Melle Melle (Oru Minnamin...\n",
       "153    ham  As per your request 'Melle Melle (Oru Minnamin...\n",
       "206    ham  As I entered my cabin my PA said, '' Happy B'd...\n",
       "222    ham                             Sorry, I'll call later\n",
       "325    ham                   No calls..messages..missed calls\n",
       "...    ...                                                ...\n",
       "5524  spam  You are awarded a SiPix Digital Camera! call 0...\n",
       "5535   ham  I know you are thinkin malaria. But relax, chi...\n",
       "5539   ham                         Just sleeping..and surfing\n",
       "5553   ham                        Hahaha..use your brain dear\n",
       "5558   ham                             Sorry, I'll call later\n",
       "\n",
       "[403 rows x 2 columns]"
      ]
     },
     "metadata": {},
     "output_type": "display_data"
    }
   ],
   "source": [
    "eda.perform_full_eda()"
   ]
  },
  {
   "cell_type": "code",
   "execution_count": 11,
   "metadata": {},
   "outputs": [
    {
     "name": "stderr",
     "output_type": "stream",
     "text": [
      "/home/nord/Documents/GitHub/goit-cv-hw10/src/tools/EDA.py:122: FutureWarning: \n",
      "\n",
      "Passing `palette` without assigning `hue` is deprecated and will be removed in v0.14.0. Assign the `x` variable to `hue` and set `legend=False` for the same effect.\n",
      "\n",
      "  sns.barplot(x=class_counts.index, y=class_counts.values, palette=\"Set2\")\n"
     ]
    },
    {
     "data": {
      "image/png": "[encoded data removed]",
      "text/plain": [
       "<Figure size 800x600 with 1 Axes>"
      ]
     },
     "metadata": {},
     "output_type": "display_data"
    }
   ],
   "source": [
    "eda.plot_class_balance(\"y\")"
   ]
  },
  {
   "cell_type": "markdown",
   "metadata": {},
   "source": [
    "# Data Processing\n"
   ]
  },
  {
   "cell_type": "code",
   "execution_count": 12,
   "metadata": {},
   "outputs": [
    {
     "name": "stdout",
     "output_type": "stream",
     "text": [
      "Данные успешно разделены: 4457 тренировочных и 1115 тестовых образцов.\n"
     ]
    }
   ],
   "source": [
    "X_train, X_test, y_train, y_test = loader.split_data(target_column=\"y\")"
   ]
  },
  {
   "cell_type": "code",
   "execution_count": 13,
   "metadata": {},
   "outputs": [
    {
     "data": {
      "text/html": [
       "<div>\n",
       "<style scoped>\n",
       "    .dataframe tbody tr th:only-of-type {\n",
       "        vertical-align: middle;\n",
       "    }\n",
       "\n",
       "    .dataframe tbody tr th {\n",
       "        vertical-align: top;\n",
       "    }\n",
       "\n",
       "    .dataframe thead th {\n",
       "        text-align: right;\n",
       "    }\n",
       "</style>\n",
       "<table border=\"1\" class=\"dataframe\">\n",
       "  <thead>\n",
       "    <tr style=\"text-align: right;\">\n",
       "      <th></th>\n",
       "      <th>X</th>\n",
       "    </tr>\n",
       "  </thead>\n",
       "  <tbody>\n",
       "    <tr>\n",
       "      <th>1978</th>\n",
       "      <td>No I'm in the same boat. Still here at my moms...</td>\n",
       "    </tr>\n",
       "    <tr>\n",
       "      <th>3989</th>\n",
       "      <td>(Bank of Granite issues Strong-Buy) EXPLOSIVE ...</td>\n",
       "    </tr>\n",
       "    <tr>\n",
       "      <th>3935</th>\n",
       "      <td>They r giving a second chance to rahul dengra.</td>\n",
       "    </tr>\n",
       "    <tr>\n",
       "      <th>4078</th>\n",
       "      <td>O i played smash bros  &amp;lt;#&amp;gt;  religiously.</td>\n",
       "    </tr>\n",
       "    <tr>\n",
       "      <th>4086</th>\n",
       "      <td>PRIVATE! Your 2003 Account Statement for 07973...</td>\n",
       "    </tr>\n",
       "  </tbody>\n",
       "</table>\n",
       "</div>"
      ],
      "text/plain": [
       "                                                      X\n",
       "1978  No I'm in the same boat. Still here at my moms...\n",
       "3989  (Bank of Granite issues Strong-Buy) EXPLOSIVE ...\n",
       "3935     They r giving a second chance to rahul dengra.\n",
       "4078     O i played smash bros  &lt;#&gt;  religiously.\n",
       "4086  PRIVATE! Your 2003 Account Statement for 07973..."
      ]
     },
     "metadata": {},
     "output_type": "display_data"
    }
   ],
   "source": [
    "display(X_train.head())"
   ]
  },
  {
   "cell_type": "code",
   "execution_count": 14,
   "metadata": {},
   "outputs": [],
   "source": [
    "config = {\n",
    "    \"remove_html_tags\": True,\n",
    "    \"remove_emails\": True,\n",
    "    \"remove_urls\": True,\n",
    "    \"lowercase\": True,\n",
    "    \"expand_contractions\": True,\n",
    "    \"remove_stopwords\": True,\n",
    "    \"remove_punctuation\": True,\n",
    "    \"lemmatize\": True,\n",
    "    \"stem_words\": False,  # Мы можем выбрать либо стемминг, либо лемматизацию\n",
    "    \"remove_digits\": True,\n",
    "    \"remove_extra_spaces\": True,\n",
    "}"
   ]
  },
  {
   "cell_type": "code",
   "execution_count": 15,
   "metadata": {},
   "outputs": [],
   "source": [
    "pipeline = TextPreprocessingPipeline(config)"
   ]
  },
  {
   "cell_type": "code",
   "execution_count": 16,
   "metadata": {},
   "outputs": [
    {
     "name": "stderr",
     "output_type": "stream",
     "text": [
      "100%|██████████| 4457/4457 [00:14<00:00, 306.10it/s]\n"
     ]
    }
   ],
   "source": [
    "X_train_processed = pipeline.preprocess_column(X_train, \"X\")"
   ]
  },
  {
   "cell_type": "code",
   "execution_count": 17,
   "metadata": {},
   "outputs": [
    {
     "name": "stderr",
     "output_type": "stream",
     "text": [
      "100%|██████████| 1115/1115 [00:03<00:00, 324.17it/s]\n"
     ]
    }
   ],
   "source": [
    "X_test_processed = pipeline.preprocess_column(X_test, \"X\")"
   ]
  },
  {
   "cell_type": "code",
   "execution_count": 18,
   "metadata": {},
   "outputs": [
    {
     "data": {
      "text/html": [
       "<div>\n",
       "<style scoped>\n",
       "    .dataframe tbody tr th:only-of-type {\n",
       "        vertical-align: middle;\n",
       "    }\n",
       "\n",
       "    .dataframe tbody tr th {\n",
       "        vertical-align: top;\n",
       "    }\n",
       "\n",
       "    .dataframe thead th {\n",
       "        text-align: right;\n",
       "    }\n",
       "</style>\n",
       "<table border=\"1\" class=\"dataframe\">\n",
       "  <thead>\n",
       "    <tr style=\"text-align: right;\">\n",
       "      <th></th>\n",
       "      <th>X</th>\n",
       "      <th>X_processed</th>\n",
       "    </tr>\n",
       "  </thead>\n",
       "  <tbody>\n",
       "    <tr>\n",
       "      <th>1978</th>\n",
       "      <td>No I'm in the same boat. Still here at my moms...</td>\n",
       "      <td>boat still mom check yo half naked</td>\n",
       "    </tr>\n",
       "    <tr>\n",
       "      <th>3989</th>\n",
       "      <td>(Bank of Granite issues Strong-Buy) EXPLOSIVE ...</td>\n",
       "      <td>bank granite issue strong buy explosive pick m...</td>\n",
       "    </tr>\n",
       "    <tr>\n",
       "      <th>3935</th>\n",
       "      <td>They r giving a second chance to rahul dengra.</td>\n",
       "      <td>give second chance rahul dengra</td>\n",
       "    </tr>\n",
       "    <tr>\n",
       "      <th>4078</th>\n",
       "      <td>O i played smash bros  &amp;lt;#&amp;gt;  religiously.</td>\n",
       "      <td>play smash bros lt gt religiously</td>\n",
       "    </tr>\n",
       "    <tr>\n",
       "      <th>4086</th>\n",
       "      <td>PRIVATE! Your 2003 Account Statement for 07973...</td>\n",
       "      <td>private account statement show un redeem point...</td>\n",
       "    </tr>\n",
       "    <tr>\n",
       "      <th>...</th>\n",
       "      <td>...</td>\n",
       "      <td>...</td>\n",
       "    </tr>\n",
       "    <tr>\n",
       "      <th>3772</th>\n",
       "      <td>I came hostel. I m going to sleep. Plz call me...</td>\n",
       "      <td>come hostel go sleep plz call class hrishi</td>\n",
       "    </tr>\n",
       "    <tr>\n",
       "      <th>5191</th>\n",
       "      <td>Sorry, I'll call later</td>\n",
       "      <td>sorry call later</td>\n",
       "    </tr>\n",
       "    <tr>\n",
       "      <th>5226</th>\n",
       "      <td>Prabha..i'm soryda..realy..frm heart i'm sory</td>\n",
       "      <td>prabha soryda realy frm heart sory</td>\n",
       "    </tr>\n",
       "    <tr>\n",
       "      <th>5390</th>\n",
       "      <td>Nt joking seriously i told</td>\n",
       "      <td>not joke seriously tell</td>\n",
       "    </tr>\n",
       "    <tr>\n",
       "      <th>860</th>\n",
       "      <td>In work now. Going have in few min.</td>\n",
       "      <td>work now go min</td>\n",
       "    </tr>\n",
       "  </tbody>\n",
       "</table>\n",
       "<p>4457 rows × 2 columns</p>\n",
       "</div>"
      ],
      "text/plain": [
       "                                                      X  \\\n",
       "1978  No I'm in the same boat. Still here at my moms...   \n",
       "3989  (Bank of Granite issues Strong-Buy) EXPLOSIVE ...   \n",
       "3935     They r giving a second chance to rahul dengra.   \n",
       "4078     O i played smash bros  &lt;#&gt;  religiously.   \n",
       "4086  PRIVATE! Your 2003 Account Statement for 07973...   \n",
       "...                                                 ...   \n",
       "3772  I came hostel. I m going to sleep. Plz call me...   \n",
       "5191                             Sorry, I'll call later   \n",
       "5226      Prabha..i'm soryda..realy..frm heart i'm sory   \n",
       "5390                         Nt joking seriously i told   \n",
       "860                 In work now. Going have in few min.   \n",
       "\n",
       "                                            X_processed  \n",
       "1978                 boat still mom check yo half naked  \n",
       "3989  bank granite issue strong buy explosive pick m...  \n",
       "3935                    give second chance rahul dengra  \n",
       "4078                  play smash bros lt gt religiously  \n",
       "4086  private account statement show un redeem point...  \n",
       "...                                                 ...  \n",
       "3772         come hostel go sleep plz call class hrishi  \n",
       "5191                                   sorry call later  \n",
       "5226                 prabha soryda realy frm heart sory  \n",
       "5390                            not joke seriously tell  \n",
       "860                                     work now go min  \n",
       "\n",
       "[4457 rows x 2 columns]"
      ]
     },
     "metadata": {},
     "output_type": "display_data"
    }
   ],
   "source": [
    "display(X_train_processed[[\"X\", \"X_processed\"]])"
   ]
  },
  {
   "cell_type": "code",
   "execution_count": 19,
   "metadata": {},
   "outputs": [
    {
     "data": {
      "text/html": [
       "<div>\n",
       "<style scoped>\n",
       "    .dataframe tbody tr th:only-of-type {\n",
       "        vertical-align: middle;\n",
       "    }\n",
       "\n",
       "    .dataframe tbody tr th {\n",
       "        vertical-align: top;\n",
       "    }\n",
       "\n",
       "    .dataframe thead th {\n",
       "        text-align: right;\n",
       "    }\n",
       "</style>\n",
       "<table border=\"1\" class=\"dataframe\">\n",
       "  <thead>\n",
       "    <tr style=\"text-align: right;\">\n",
       "      <th></th>\n",
       "      <th>X</th>\n",
       "      <th>X_processed</th>\n",
       "    </tr>\n",
       "  </thead>\n",
       "  <tbody>\n",
       "    <tr>\n",
       "      <th>1978</th>\n",
       "      <td>No I'm in the same boat. Still here at my moms...</td>\n",
       "      <td>boat still mom check yo half naked</td>\n",
       "    </tr>\n",
       "    <tr>\n",
       "      <th>3989</th>\n",
       "      <td>(Bank of Granite issues Strong-Buy) EXPLOSIVE ...</td>\n",
       "      <td>bank granite issue strong buy explosive pick m...</td>\n",
       "    </tr>\n",
       "    <tr>\n",
       "      <th>3935</th>\n",
       "      <td>They r giving a second chance to rahul dengra.</td>\n",
       "      <td>give second chance rahul dengra</td>\n",
       "    </tr>\n",
       "    <tr>\n",
       "      <th>4078</th>\n",
       "      <td>O i played smash bros  &amp;lt;#&amp;gt;  religiously.</td>\n",
       "      <td>play smash bros lt gt religiously</td>\n",
       "    </tr>\n",
       "    <tr>\n",
       "      <th>4086</th>\n",
       "      <td>PRIVATE! Your 2003 Account Statement for 07973...</td>\n",
       "      <td>private account statement show un redeem point...</td>\n",
       "    </tr>\n",
       "  </tbody>\n",
       "</table>\n",
       "</div>"
      ],
      "text/plain": [
       "                                                      X  \\\n",
       "1978  No I'm in the same boat. Still here at my moms...   \n",
       "3989  (Bank of Granite issues Strong-Buy) EXPLOSIVE ...   \n",
       "3935     They r giving a second chance to rahul dengra.   \n",
       "4078     O i played smash bros  &lt;#&gt;  religiously.   \n",
       "4086  PRIVATE! Your 2003 Account Statement for 07973...   \n",
       "\n",
       "                                            X_processed  \n",
       "1978                 boat still mom check yo half naked  \n",
       "3989  bank granite issue strong buy explosive pick m...  \n",
       "3935                    give second chance rahul dengra  \n",
       "4078                  play smash bros lt gt religiously  \n",
       "4086  private account statement show un redeem point...  "
      ]
     },
     "metadata": {},
     "output_type": "display_data"
    }
   ],
   "source": [
    "display(X_train_processed.head())"
   ]
  },
  {
   "cell_type": "markdown",
   "metadata": {},
   "source": [
    "# Model Training\n"
   ]
  },
  {
   "cell_type": "code",
   "execution_count": 20,
   "metadata": {},
   "outputs": [
    {
     "name": "stdout",
     "output_type": "stream",
     "text": [
      "Загрузка предобученной модели эмбеддингов 'word2vec-google-news-300'...\n",
      "Модель 'word2vec-google-news-300' загружена успешно!\n"
     ]
    }
   ],
   "source": [
    "embedding_model = EmbeddingModel(\"word2vec-google-news-300\")"
   ]
  },
  {
   "cell_type": "code",
   "execution_count": 21,
   "metadata": {},
   "outputs": [
    {
     "name": "stderr",
     "output_type": "stream",
     "text": [
      "100%|██████████| 4457/4457 [00:00<00:00, 26278.52it/s]\n",
      "100%|██████████| 1115/1115 [00:00<00:00, 25349.75it/s]\n"
     ]
    }
   ],
   "source": [
    "X_train_embeddings = embedding_model.apply_embeddings(X_train_processed, \"X\")\n",
    "X_test_embeddings = embedding_model.apply_embeddings(X_test_processed, \"X\")"
   ]
  },
  {
   "cell_type": "code",
   "execution_count": 22,
   "metadata": {},
   "outputs": [],
   "source": [
    "X_train_processed_text = X_train_processed[\"X\"]\n",
    "X_test_processed_text = X_test_processed[\"X\"]"
   ]
  },
  {
   "cell_type": "code",
   "execution_count": 23,
   "metadata": {},
   "outputs": [],
   "source": [
    "# Параметры для логистической регрессии\n",
    "lr_params = {\n",
    "    \"C\": 0.1,  # Регуляризация (меньше значение - больше регуляризация)\n",
    "    \"solver\": \"liblinear\",  # Метод оптимизации\n",
    "    \"penalty\": \"l2\",  # Тип регуляризации (l1, l2)\n",
    "    \"max_iter\": 200,  # Максимальное количество итераций\n",
    "    \"random_state\": 42,  # Фиксированный random state для воспроизводимости\n",
    "}\n",
    "\n",
    "# Параметры для случайного леса\n",
    "rf_params = {\n",
    "    \"n_estimators\": 200,  # Количество деревьев в лесу\n",
    "    \"max_depth\": 10,  # Максимальная глубина дерева\n",
    "    \"min_samples_split\": 5,  # Минимальное количество образцов для разбиения узла\n",
    "    \"min_samples_leaf\": 2,  # Минимальное количество образцов в листовом узле\n",
    "    \"max_features\": \"sqrt\",  # Количество признаков для выбора при разделении узла\n",
    "    \"bootstrap\": True,  # Использовать ли bootstrap при построении деревьев\n",
    "    \"random_state\": 42,  # Фиксированный random state для воспроизводимости\n",
    "}"
   ]
  },
  {
   "cell_type": "code",
   "execution_count": 24,
   "metadata": {},
   "outputs": [],
   "source": [
    "model_trainer = MLModelTrainer(model_type=\"LogisticRegression\")\n",
    "# RandomForest"
   ]
  },
  {
   "cell_type": "code",
   "execution_count": 25,
   "metadata": {},
   "outputs": [
    {
     "name": "stdout",
     "output_type": "stream",
     "text": [
      "\n",
      "Training with BoW:\n"
     ]
    }
   ],
   "source": [
    "print(\"\\nTraining with BoW:\")\n",
    "bow_model, bow_vectorizer = model_trainer.train_with_bow(\n",
    "    X_train_processed_text, y_train\n",
    ")\n",
    "\n",
    "X_test_bow = bow_vectorizer.transform(X_test_processed_text)"
   ]
  },
  {
   "cell_type": "code",
   "execution_count": 26,
   "metadata": {},
   "outputs": [
    {
     "name": "stdout",
     "output_type": "stream",
     "text": [
      "\n",
      "Training with TF-IDF:\n"
     ]
    }
   ],
   "source": [
    "print(\"\\nTraining with TF-IDF:\")\n",
    "tfidf_model, tfidf_vectorizer = model_trainer.train_with_tfidf(\n",
    "    X_train_processed_text, y_train\n",
    ")\n",
    "\n",
    "X_test_tfidf = tfidf_vectorizer.transform(X_test_processed_text)"
   ]
  },
  {
   "cell_type": "code",
   "execution_count": 27,
   "metadata": {},
   "outputs": [],
   "source": [
    "embeddings_model = model_trainer.train_with_embeddings(X_train_embeddings, y_train)"
   ]
  },
  {
   "cell_type": "markdown",
   "metadata": {},
   "source": [
    "# Model Evaluation\n"
   ]
  },
  {
   "cell_type": "code",
   "execution_count": 28,
   "metadata": {},
   "outputs": [],
   "source": [
    "evaluator = ModelEvaluator()"
   ]
  },
  {
   "cell_type": "code",
   "execution_count": 29,
   "metadata": {},
   "outputs": [
    {
     "data": {
      "text/html": [
       "<div>\n",
       "<style scoped>\n",
       "    .dataframe tbody tr th:only-of-type {\n",
       "        vertical-align: middle;\n",
       "    }\n",
       "\n",
       "    .dataframe tbody tr th {\n",
       "        vertical-align: top;\n",
       "    }\n",
       "\n",
       "    .dataframe thead th {\n",
       "        text-align: right;\n",
       "    }\n",
       "</style>\n",
       "<table border=\"1\" class=\"dataframe\">\n",
       "  <thead>\n",
       "    <tr style=\"text-align: right;\">\n",
       "      <th></th>\n",
       "      <th>Metric</th>\n",
       "      <th>Value</th>\n",
       "    </tr>\n",
       "  </thead>\n",
       "  <tbody>\n",
       "    <tr>\n",
       "      <th>0</th>\n",
       "      <td>Accuracy</td>\n",
       "      <td>0.963229</td>\n",
       "    </tr>\n",
       "    <tr>\n",
       "      <th>1</th>\n",
       "      <td>Balanced Accuracy</td>\n",
       "      <td>0.888670</td>\n",
       "    </tr>\n",
       "    <tr>\n",
       "      <th>2</th>\n",
       "      <td>Precision</td>\n",
       "      <td>0.962435</td>\n",
       "    </tr>\n",
       "    <tr>\n",
       "      <th>3</th>\n",
       "      <td>Recall</td>\n",
       "      <td>0.963229</td>\n",
       "    </tr>\n",
       "    <tr>\n",
       "      <th>4</th>\n",
       "      <td>F1 Score</td>\n",
       "      <td>0.961919</td>\n",
       "    </tr>\n",
       "    <tr>\n",
       "      <th>5</th>\n",
       "      <td>ROC-AUC</td>\n",
       "      <td>0.971682</td>\n",
       "    </tr>\n",
       "  </tbody>\n",
       "</table>\n",
       "</div>"
      ],
      "text/plain": [
       "              Metric     Value\n",
       "0           Accuracy  0.963229\n",
       "1  Balanced Accuracy  0.888670\n",
       "2          Precision  0.962435\n",
       "3             Recall  0.963229\n",
       "4           F1 Score  0.961919\n",
       "5            ROC-AUC  0.971682"
      ]
     },
     "metadata": {},
     "output_type": "display_data"
    },
    {
     "data": {
      "image/png": "[encoded data removed]",
      "text/plain": [
       "<Figure size 600x400 with 1 Axes>"
      ]
     },
     "metadata": {},
     "output_type": "display_data"
    },
    {
     "data": {
      "image/png": "[encoded data removed]",
      "text/plain": [
       "<Figure size 800x600 with 1 Axes>"
      ]
     },
     "metadata": {},
     "output_type": "display_data"
    },
    {
     "name": "stdout",
     "output_type": "stream",
     "text": [
      "\n",
      "        Описание метрик:\n",
      "\n",
      "        1. **Accuracy** — точность. Соотношение правильно предсказанных наблюдений к общему числу наблюдений. \n",
      "           Пример: 80% — это значит, что 80% наблюдений были предсказаны правильно.\n",
      "\n",
      "        2. **Balanced Accuracy** — сбалансированная точность. Среднее значение между точностью по каждому классу, особенно полезна при несбалансированных классах.\n",
      "\n",
      "        3. **Precision** — точность. Соотношение правильно предсказанных положительных наблюдений ко всем предсказанным положительным наблюдениям. \n",
      "           Пример: Если модель предсказала 100 положительных случаев, но только 80 из них были правильными, точность составит 80%.\n",
      "\n",
      "        4. **Recall** — полнота. Соотношение правильно предсказанных положительных наблюдений ко всем реальным положительным наблюдениям. \n",
      "           Пример: Если есть 100 положительных случаев и модель нашла 80 из них, то полнота будет 80%.\n",
      "\n",
      "        5. **F1 Score** — гармоническое среднее между точностью и полнотой. Это мера, которая помогает найти баланс между точностью и полнотой.\n",
      "\n",
      "        6. **ROC-AUC** — площадь под ROC-кривой. Мера, показывающая, насколько хорошо модель различает классы. \n",
      "           Значение 1.0 означает идеальную модель, значение 0.5 означает, что модель работает не лучше случайного угадывания.\n",
      "\n",
      "        \n"
     ]
    },
    {
     "data": {
      "text/html": [
       "<div>\n",
       "<style scoped>\n",
       "    .dataframe tbody tr th:only-of-type {\n",
       "        vertical-align: middle;\n",
       "    }\n",
       "\n",
       "    .dataframe tbody tr th {\n",
       "        vertical-align: top;\n",
       "    }\n",
       "\n",
       "    .dataframe thead th {\n",
       "        text-align: right;\n",
       "    }\n",
       "</style>\n",
       "<table border=\"1\" class=\"dataframe\">\n",
       "  <thead>\n",
       "    <tr style=\"text-align: right;\">\n",
       "      <th></th>\n",
       "      <th>Metric</th>\n",
       "      <th>Value</th>\n",
       "    </tr>\n",
       "  </thead>\n",
       "  <tbody>\n",
       "    <tr>\n",
       "      <th>0</th>\n",
       "      <td>Accuracy</td>\n",
       "      <td>0.963229</td>\n",
       "    </tr>\n",
       "    <tr>\n",
       "      <th>1</th>\n",
       "      <td>Balanced Accuracy</td>\n",
       "      <td>0.888670</td>\n",
       "    </tr>\n",
       "    <tr>\n",
       "      <th>2</th>\n",
       "      <td>Precision</td>\n",
       "      <td>0.962435</td>\n",
       "    </tr>\n",
       "    <tr>\n",
       "      <th>3</th>\n",
       "      <td>Recall</td>\n",
       "      <td>0.963229</td>\n",
       "    </tr>\n",
       "    <tr>\n",
       "      <th>4</th>\n",
       "      <td>F1 Score</td>\n",
       "      <td>0.961919</td>\n",
       "    </tr>\n",
       "    <tr>\n",
       "      <th>5</th>\n",
       "      <td>ROC-AUC</td>\n",
       "      <td>0.971682</td>\n",
       "    </tr>\n",
       "  </tbody>\n",
       "</table>\n",
       "</div>"
      ],
      "text/plain": [
       "              Metric     Value\n",
       "0           Accuracy  0.963229\n",
       "1  Balanced Accuracy  0.888670\n",
       "2          Precision  0.962435\n",
       "3             Recall  0.963229\n",
       "4           F1 Score  0.961919\n",
       "5            ROC-AUC  0.971682"
      ]
     },
     "execution_count": 29,
     "metadata": {},
     "output_type": "execute_result"
    }
   ],
   "source": [
    "evaluator.display_results(embeddings_model, X_test_embeddings, y_test, show_help=True)"
   ]
  },
  {
   "cell_type": "code",
   "execution_count": 30,
   "metadata": {},
   "outputs": [],
   "source": [
    "# 2. Сравнение моделей\n",
    "models = {\n",
    "    \"BoW\": bow_model,\n",
    "    \"TF-IDF\": tfidf_model,\n",
    "    \"Embeddings\": embeddings_model,\n",
    "}\n",
    "\n",
    "test_data = {\n",
    "    \"BoW\": X_test_bow,\n",
    "    \"TF-IDF\": X_test_tfidf,\n",
    "    \"Embeddings\": X_test_embeddings,\n",
    "}"
   ]
  },
  {
   "cell_type": "code",
   "execution_count": 31,
   "metadata": {},
   "outputs": [
    {
     "data": {
      "text/html": [
       "<div>\n",
       "<style scoped>\n",
       "    .dataframe tbody tr th:only-of-type {\n",
       "        vertical-align: middle;\n",
       "    }\n",
       "\n",
       "    .dataframe tbody tr th {\n",
       "        vertical-align: top;\n",
       "    }\n",
       "\n",
       "    .dataframe thead th {\n",
       "        text-align: right;\n",
       "    }\n",
       "</style>\n",
       "<table border=\"1\" class=\"dataframe\">\n",
       "  <thead>\n",
       "    <tr style=\"text-align: right;\">\n",
       "      <th></th>\n",
       "      <th>Accuracy</th>\n",
       "      <th>Balanced Accuracy</th>\n",
       "      <th>Precision</th>\n",
       "      <th>Recall</th>\n",
       "      <th>F1 Score</th>\n",
       "      <th>ROC-AUC</th>\n",
       "    </tr>\n",
       "  </thead>\n",
       "  <tbody>\n",
       "    <tr>\n",
       "      <th>BoW</th>\n",
       "      <td>0.977578</td>\n",
       "      <td>0.919482</td>\n",
       "      <td>0.977917</td>\n",
       "      <td>0.977578</td>\n",
       "      <td>0.976780</td>\n",
       "      <td>0.981803</td>\n",
       "    </tr>\n",
       "    <tr>\n",
       "      <th>TF-IDF</th>\n",
       "      <td>0.967713</td>\n",
       "      <td>0.882815</td>\n",
       "      <td>0.968518</td>\n",
       "      <td>0.967713</td>\n",
       "      <td>0.965929</td>\n",
       "      <td>0.984000</td>\n",
       "    </tr>\n",
       "    <tr>\n",
       "      <th>Embeddings</th>\n",
       "      <td>0.963229</td>\n",
       "      <td>0.888670</td>\n",
       "      <td>0.962435</td>\n",
       "      <td>0.963229</td>\n",
       "      <td>0.961919</td>\n",
       "      <td>0.971682</td>\n",
       "    </tr>\n",
       "  </tbody>\n",
       "</table>\n",
       "</div>"
      ],
      "text/plain": [
       "            Accuracy  Balanced Accuracy  Precision    Recall  F1 Score  \\\n",
       "BoW         0.977578           0.919482   0.977917  0.977578  0.976780   \n",
       "TF-IDF      0.967713           0.882815   0.968518  0.967713  0.965929   \n",
       "Embeddings  0.963229           0.888670   0.962435  0.963229  0.961919   \n",
       "\n",
       "             ROC-AUC  \n",
       "BoW         0.981803  \n",
       "TF-IDF      0.984000  \n",
       "Embeddings  0.971682  "
      ]
     },
     "metadata": {},
     "output_type": "display_data"
    },
    {
     "name": "stdout",
     "output_type": "stream",
     "text": [
      "\n",
      "        Описание метрик:\n",
      "\n",
      "        1. **Accuracy** — точность. Соотношение правильно предсказанных наблюдений к общему числу наблюдений. \n",
      "           Пример: 80% — это значит, что 80% наблюдений были предсказаны правильно.\n",
      "\n",
      "        2. **Balanced Accuracy** — сбалансированная точность. Среднее значение между точностью по каждому классу, особенно полезна при несбалансированных классах.\n",
      "\n",
      "        3. **Precision** — точность. Соотношение правильно предсказанных положительных наблюдений ко всем предсказанным положительным наблюдениям. \n",
      "           Пример: Если модель предсказала 100 положительных случаев, но только 80 из них были правильными, точность составит 80%.\n",
      "\n",
      "        4. **Recall** — полнота. Соотношение правильно предсказанных положительных наблюдений ко всем реальным положительным наблюдениям. \n",
      "           Пример: Если есть 100 положительных случаев и модель нашла 80 из них, то полнота будет 80%.\n",
      "\n",
      "        5. **F1 Score** — гармоническое среднее между точностью и полнотой. Это мера, которая помогает найти баланс между точностью и полнотой.\n",
      "\n",
      "        6. **ROC-AUC** — площадь под ROC-кривой. Мера, показывающая, насколько хорошо модель различает классы. \n",
      "           Значение 1.0 означает идеальную модель, значение 0.5 означает, что модель работает не лучше случайного угадывания.\n",
      "\n",
      "        \n"
     ]
    },
    {
     "data": {
      "image/png": "[encoded data removed]",
      "text/plain": [
       "<Figure size 1000x1200 with 6 Axes>"
      ]
     },
     "metadata": {},
     "output_type": "display_data"
    },
    {
     "data": {
      "image/png": "[encoded data removed]",
      "text/plain": [
       "<Figure size 800x600 with 1 Axes>"
      ]
     },
     "metadata": {},
     "output_type": "display_data"
    }
   ],
   "source": [
    "evaluator.compare_models(models, test_data, y_test, show_help=True, n_cols=2)"
   ]
  },
  {
   "cell_type": "markdown",
   "metadata": {},
   "source": [
    "# Conclusion"
   ]
  },
  {
   "cell_type": "markdown",
   "metadata": {},
   "source": [
    "Analysis and Interpretation of Results:\n",
    "\n",
    "BoW Model:\n",
    "\n",
    "Best performance overall with an accuracy of 0.977 and the highest F1 score of 0.977.\n",
    "\n",
    "Strengths: High precision and recall, indicating that this model is highly reliable for spam detection with minimal false positives and negatives.\n",
    "\n",
    "Weaknesses: BoW models can be computationally expensive due to the high dimensionality of sparse matrices.\n",
    "\n",
    "TF-IDF Model:\n",
    "\n",
    "Slightly lower accuracy (0.968) and F1 score (0.966) compared to BoW, but best ROC-AUC score of 0.984.\n",
    "\n",
    "Strengths: Good at capturing the importance of specific words, leading to higher discrimination between classes.\n",
    "\n",
    "Weaknesses: Slightly lower balanced accuracy (0.883) suggests it may not perform as well on imbalanced data.\n",
    "\n",
    "Embeddings Model:\n",
    "\n",
    "The lowest accuracy (0.963) and F1 score (0.962), but still competitive.\n",
    "\n",
    "Strengths: Embeddings capture semantic meaning and relationships between words, which could be advantageous for more complex tasks.\n",
    "\n",
    "Weaknesses: May underperform on small datasets where word representations aren't as meaningful or fully leveraged.\n",
    "\n",
    "Conclusion:\n",
    "\n",
    "The BoW model performs best for this spam classification task, with the highest accuracy and balanced performance across all metrics. The TF-IDF model excels in ROC-AUC, showing strong discrimination, while embeddings provide a semantic approach but slightly lower results in this case."
   ]
  }
 ],
 "metadata": {
  "kernelspec": {
   "display_name": "Python 3",
   "language": "python",
   "name": "python3"
  },
  "language_info": {
   "codemirror_mode": {
    "name": "ipython",
    "version": 3
   },
   "file_extension": ".py",
   "mimetype": "text/x-python",
   "name": "python",
   "nbconvert_exporter": "python",
   "pygments_lexer": "ipython3",
   "version": "3.12.3"
  }
 },
 "nbformat": 4,
 "nbformat_minor": 2
}
